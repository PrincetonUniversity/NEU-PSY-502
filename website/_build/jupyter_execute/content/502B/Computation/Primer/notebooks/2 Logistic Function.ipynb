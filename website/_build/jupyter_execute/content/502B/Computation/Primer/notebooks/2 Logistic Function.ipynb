{
 "cells": [
  {
   "cell_type": "markdown",
   "id": "1ec1890b9e906c5c",
   "metadata": {},
   "source": [
    "# 1.2 Logistic Function\n",
    "\n",
    "![log](https://princetonuniversity.github.io/NEU-PSY-502/_static/images/502B/computation/primer/log.png)\n",
    "\n",
    "## Introduction\n",
    "\n",
    "The logistic function, also known as the sigmoid function, is a mathematical function that maps any real number to a value between 0 and 1. It is widely used in machine learning, statistics, and biology for modeling probabilities, activation functions in neural networks, and processes with S-shaped growth curves. Its smooth, S-shaped curve makes it ideal for representing transitions or probabilities.\n",
    "\n",
    "Here, we also use PsyNeuLink to introduce basic functionality.\n",
    "\n",
    "**Installation and Setup**"
   ]
  },
  {
   "cell_type": "code",
   "execution_count": 1,
   "id": "4d8ce63fc9d33c6b",
   "metadata": {
    "ExecuteTime": {
     "end_time": "2025-01-21T16:51:39.736401Z",
     "start_time": "2025-01-21T16:51:36.627544Z"
    }
   },
   "outputs": [],
   "source": [
    "%%capture\n",
    "%pip install psyneulink\n",
    "\n",
    "import psyneulink as pnl"
   ]
  },
  {
   "cell_type": "markdown",
   "id": "d00cf20be71c380e",
   "metadata": {},
   "source": [
    "We can use PsyNeuLink to plot the default logistic function:"
   ]
  },
  {
   "cell_type": "code",
   "execution_count": 2,
   "id": "57a51fed7de0e045",
   "metadata": {
    "ExecuteTime": {
     "end_time": "2025-01-20T22:34:23.680192Z",
     "start_time": "2025-01-20T22:34:23.508786Z"
    }
   },
   "outputs": [
    {
     "data": {
      "image/png": "[encoded data removed]",
      "text/plain": [
       "<Figure size 640x480 with 1 Axes>"
      ]
     },
     "metadata": {},
     "output_type": "display_data"
    }
   ],
   "source": [
    "logistic_transfer = pnl.TransferMechanism(function=pnl.Logistic())\n",
    "logistic_transfer.plot()"
   ]
  },
  {
   "cell_type": "markdown",
   "id": "deffc5490e1689cd",
   "metadata": {},
   "source": [
    "In the cell below you can plug a single number into this function and get an output value. Your input corresponds to a point on the x-axis, and the output is the corresponding y-value (height of the point on the curve above the x you specified)."
   ]
  },
  {
   "cell_type": "code",
   "execution_count": 3,
   "id": "d2bc1ef48fd08d4a",
   "metadata": {
    "ExecuteTime": {
     "end_time": "2025-01-20T22:34:49.276614Z",
     "start_time": "2025-01-20T22:34:49.268656Z"
    }
   },
   "outputs": [
    {
     "data": {
      "text/plain": [
       "array([[0.11920292]])"
      ]
     },
     "execution_count": 3,
     "metadata": {},
     "output_type": "execute_result"
    }
   ],
   "source": [
    "logistic_transfer.execute(-2)   # Try other inputs! What do you expect when you input 0?"
   ]
  },
  {
   "cell_type": "markdown",
   "id": "5d5bd4de9706e0bd",
   "metadata": {},
   "source": [
    "## Gain, Offset, and Bias\n",
    "\n",
    "The general logistic function has the following mathematical form:\n",
    "\n",
    "$$\n",
    "f(x) = \\frac{1}{1 + e^{-gain * (x - bias)}} + offset\n",
    "$$\n",
    "\n",
    "The gain determines how steep the central portion of the S curve is, with higher values being steeper. The bias determines the midpoint of the curve, with higher values shifting the curve to the right. It shifts the curve horizontally. The offset shifts the curve vertically."
   ]
  },
  {
   "cell_type": "code",
   "execution_count": 4,
   "id": "bc299493119540f6",
   "metadata": {
    "ExecuteTime": {
     "end_time": "2025-01-21T16:12:16.348700Z",
     "start_time": "2025-01-21T16:12:16.345360Z"
    }
   },
   "outputs": [
    {
     "data": {
      "text/html": [
       "\n",
       "        <iframe\n",
       "            width=\"100%\"\n",
       "            height=\"800px\"\n",
       "            src=\"https://princetonuniversity.github.io/NEU-PSY-502/_static/html_widgets/interactive_logistic.html\"\n",
       "            frameborder=\"0\"\n",
       "            allowfullscreen\n",
       "            \n",
       "        ></iframe>\n",
       "        "
      ],
      "text/plain": [
       "<IPython.lib.display.IFrame at 0x7f163bdc04d0>"
      ]
     },
     "execution_count": 4,
     "metadata": {},
     "output_type": "execute_result"
    }
   ],
   "source": [
    "from IPython.display import IFrame\n",
    "\n",
    "url = \"https://princetonuniversity.github.io/NEU-PSY-502/_static/html_widgets/interactive_logistic.html\"\n",
    "IFrame(src=url, width=\"100%\", height=\"800px\")"
   ]
  },
  {
   "cell_type": "markdown",
   "id": "5b9e317df9768f97",
   "metadata": {},
   "source": [
    "\n",
    "<h4 style=\"background: #256ca2; color: #e9e9e9\">🎯  Exercise 1</h4>\n",
    "    \n",
    "\n",
    "Can you find a parameter settings that makes the logistic function output 1 when the input is 1?\n",
    "    "
   ]
  },
  {
   "cell_type": "markdown",
   "id": "5a34fab95e025662",
   "metadata": {},
   "source": [
    "\n",
    "<details><summary style='background: #22ae6a; color:#e9e9e9'>✅ Solution 1</summary>\n",
    "    \n",
    "\n",
    "An easy way to do this is to shift the curve by 1 to the right and 0.5 up. This can be achieved by setting the bias to 1 and the offset to 0.5.\n",
    "\n",
    "```python\n",
    "logistic_transfer = pnl.TransferMechanism(function=pnl.Logistic(gain=1, bias=1, offset=0.5))\n",
    "logistic_transfer.execute(1)\n",
    "```\n",
    "    \n",
    "</details>\n",
    "    "
   ]
  }
 ],
 "metadata": {
  "kernelspec": {
   "display_name": "Python 3",
   "language": "python",
   "name": "python3"
  },
  "language_info": {
   "codemirror_mode": {
    "name": "ipython",
    "version": 3
   },
   "file_extension": ".py",
   "mimetype": "text/x-python",
   "name": "python",
   "nbconvert_exporter": "python",
   "pygments_lexer": "ipython3",
   "version": "3.11.11"
  }
 },
 "nbformat": 4,
 "nbformat_minor": 5
}